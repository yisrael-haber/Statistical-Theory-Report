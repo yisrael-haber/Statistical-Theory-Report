{
  "cells": [
    {
      "cell_type": "markdown",
      "metadata": {
        "id": "r6FuKi--jhlh"
      },
      "source": [
        "This is the code file (jupyter notebook) for the final project in Statistical Theory spring semester of 2021, given in by Yisrael Haber and Hadar Kaner. \n",
        "\n",
        "In order to use this run the code blocks, one after the other, and look at the results. In addition we have submitted a PDF or .html file version of this where you can view\n",
        "the results in an easy and convenient format to read (notice that what we run is \"probabilistic\" and so the PDF will probably present different results from\n",
        "when you run the code, the PDF only presents results from a previous running of the code.)\n",
        "\n",
        "The first part of the code concerns a numerical plot that is presented in the last part of the 3rd problem and it's meaning.\n",
        "\n",
        "From there on the code is the solution to the 5 different parts of the 4th problem - \n",
        "\n",
        "* **4.(1): Sampling and visualizing the pareto distributions (2 different methods).** - \n",
        "\n",
        "    * First method is a \"by hand\" sampling - sampling the uniform distribution, and inverting it using the CDF.\n",
        "\n",
        "    * Second method is using a numpy built-in function, we use this during the rest of the code sampling for improved speed when the number of samples is very large, but we can use the first method too.\n",
        "\n",
        "* **4.(2): Code for calculating the likelihood of a single sampling, and using that to calculate the log-likelihood**\n",
        "  **of a sampling. There is also a calculation of the log-likelihood of a sampling from the previous problem.**\n",
        "\n",
        "\n",
        "* **4.(3): Calculation of the MLE of a sampling (2 different methods)** - \n",
        "    \n",
        "    * First method presents and uses the gradient descent method (numerical solution), where we minimize the negative-log-likelihood.\n",
        "\n",
        "    * Second method is a solution using derivation of the log-likelihood formula. (analytical solution)\n",
        "\n",
        "  **In Addition A Comparison Of Both methods, And A Plot Of The Log-Likelihood Function In Order To Verify That Both Find The MLE.** \n",
        "\n",
        "* **4.(4): Generating Confidence Intervals (2 different methods)** - \n",
        "\n",
        "    * First method is using the MLE calculation from the previous part as asked.\n",
        "\n",
        "    * Second method is using the pivot method to get the intervals, this also contains visualizations and comparisons (between a naive and a smart implementation).\n",
        "\n",
        "* **4.(5): Comparison Of Means Of Samplings For \"sensitive\" $\\alpha$ Values**\n"
      ]
    },
    {
      "cell_type": "markdown",
      "metadata": {
        "id": "HMWcYSWGjhlt"
      },
      "source": [
        "# Explanation For The End Of 3.(7)\n",
        "First we will just put here the explanation for the plot that appears in the last part of the third question. The fact that the function (appears below) will be less than 1 serves as a proof that $\\hat{T}$ is better than z. This is because we have seen that both are  unbiased, and the coefficient describes the relation between the variance. A coefficient less than 1 implies that the variance of $\\hat{T}$ is less than that of z. This means it is a better estimate. Assymptotically though they seem like they would be more or less equivalent (according to the following plot). This function is\n",
        "$$2 \\left(\\frac{n\\Gamma(n)^4}{\\Gamma(n-\\frac{1}{2})^2\\Gamma(n+\\frac{1}{2})^2} - (n-1)\\right)$$\n",
        "And so the plot is - "
      ]
    },
    {
      "cell_type": "code",
      "execution_count": 2,
      "metadata": {
        "colab": {
          "base_uri": "https://localhost:8080/",
          "height": 296
        },
        "id": "HcfUkgXcjhlv",
        "outputId": "58eaa659-aeff-4e3a-ff35-cf5d85dd45c8"
      },
      "outputs": [
        {
          "name": "stderr",
          "output_type": "stream",
          "text": [
            "100%|██████████| 58/58 [00:00<00:00, 939264.99it/s]\n"
          ]
        },
        {
          "data": {
            "image/png": "[encoded data removed]",
            "text/plain": [
              "<Figure size 432x288 with 1 Axes>"
            ]
          },
          "metadata": {
            "needs_background": "light"
          },
          "output_type": "display_data"
        }
      ],
      "source": [
        "from math import gamma\n",
        "import matplotlib.pyplot as plt\n",
        "from tqdm import tqdm\n",
        "\n",
        "\n",
        "# For every value this calculates the above function, in particular we will consider only interger values.\n",
        "def function_to_plot(num):\n",
        "\n",
        "    numerator = num * (gamma(num) ** 4)\n",
        "    denominator = (gamma(num-0.5) ** 2)*(gamma(num+0.5) ** 2)\n",
        "\n",
        "    return 2*((numerator)/(denominator)-num +1)\n",
        "\n",
        "# Sampling the values for all the numbers between 1 and 50\n",
        "numbers = list(range(59))[1:]\n",
        "func_vals = [function_to_plot(val) for val in tqdm(numbers)]\n",
        "\n",
        "# Plots the above values\n",
        "plt.xlabel(\"Number Of Samples\")\n",
        "plt.ylabel(\"Value Of Coeeficient In Equation\")\n",
        "plt.plot(numbers, func_vals)\n",
        "plt.show()"
      ]
    },
    {
      "cell_type": "markdown",
      "metadata": {
        "id": "2_cTJFQijhlz"
      },
      "source": [
        "# 4.(1): Sampling and visualizing the pareto distributions (2 different methods)\n",
        " There are 2 ways to sample the Pareto distribution - one is doing this \"by hand\" and one that is utilizing more internal functions. We will present the method of doing it by hand, but we will use the more built-in one during the project for speed's sake.  \n",
        "\n",
        "## By Hand Method: \n",
        "\n",
        "Notice that that if we denote the CDF of the pareto distribution by F then \n",
        "$$F(x) = \\left(\\int_{-\\infty}^x f_X(t)dt \\right)\\cdot 1_{\\{x\\geq x_m\\}}= \\left(\\int_{x_m}^x \\frac{\\alpha\\cdot x_m^{\\alpha}}{t^{\\alpha+1}}dt\\right)\\cdot 1_{\\{x\\geq x_m\\}} = -\\left[\\frac{\\alpha\\cdot x_m^{\\alpha}}{\\alpha\\cdot t^{\\alpha}}\\right]_{x_m}^x \\cdot 1_{\\{x\\geq x_m\\}}= \\begin{cases}1-\\left(\\frac{x}{x_m}\\right)^{\\alpha}, & x\\geq x_m \\\\ 0, & \\text{Otherwise}\\end{cases}$$\n",
        "    \n",
        "And as we have seen in the lecture $F(X)\\sim \\mathcal{U}(0,1)$, and so we can get that as long as we can sample a uniform distribution U then we can also sample a pareto distribution with $\\frac{x_m}{^{\\alpha}\\sqrt{(1-U)}}$. And so if we can sample uniform distributions we can also do so for pareto, this implies the following method - "
      ]
    },
    {
      "cell_type": "code",
      "execution_count": 3,
      "metadata": {
        "colab": {
          "base_uri": "https://localhost:8080/",
          "height": 295
        },
        "id": "n6PSQCI8jhl1",
        "outputId": "9c39db52-bc96-4063-d7ba-b81038ea2073"
      },
      "outputs": [
        {
          "data": {
            "image/png": "[encoded data removed]",
            "text/plain": [
              "<Figure size 432x288 with 1 Axes>"
            ]
          },
          "metadata": {
            "needs_background": "light"
          },
          "output_type": "display_data"
        }
      ],
      "source": [
        "from scipy.stats import uniform \n",
        "\n",
        "\n",
        "# Returns a sampling of the uniform distribution on the interval (0,1).\n",
        "def uniform_dist(number_of_samples):\n",
        "    return uniform.rvs(0, 1, number_of_samples)\n",
        "\n",
        "\n",
        "# Returns the inverse of the Pareto distributionat a certain value. \n",
        "def pareto_inverse_cdf(val, xm, alpha):\n",
        "    return xm/((1-val)**(1/alpha))\n",
        "\n",
        "\n",
        "# Executes the sampling as described above using the previous functions.\n",
        "def sample_pareto(xm, alpha, number_of_samples):\n",
        "    return pareto_inverse_cdf(uniform_dist(number_of_samples), xm, alpha)\n",
        "\n",
        "\n",
        "# Initianlizing the values.\n",
        "xm, alpha, sample_number = 5, 7, 10**3\n",
        "sample_by_hand = sample_pareto(xm, alpha, sample_number)\n",
        "\n",
        "# Sampling, creating the histograms and creating the correct density function.\n",
        "count, bins, _ = plt.hist(sample_by_hand, 60, density=True)\n",
        "fit = alpha*xm**alpha / bins**(alpha+1)\n",
        "\n",
        "# Plotting the sampling and the density function.\n",
        "plt.plot(bins, max(count)*fit/max(fit), linewidth=2, color='r')\n",
        "plt.title(\"By Hand Method Sampling\")\n",
        "plt.xlabel(\"Value Of Sampling\")\n",
        "plt.ylabel(\"Density\")\n",
        "plt.show()\n"
      ]
    },
    {
      "cell_type": "markdown",
      "metadata": {
        "id": "LqrWAvNfjhl3"
      },
      "source": [
        "Where the red line is the real density function. We can see that histograms are very close. \n",
        "\n",
        "## Numpy Built-In Method\n",
        "In the document we present a comparison of both visualizations of sampling, it is done in the exact way above. We will not leave it here in the code because it isn't necessary. The actual sampling using this method can be done with the following line of code - "
      ]
    },
    {
      "cell_type": "code",
      "execution_count": 4,
      "metadata": {
        "id": "jq6PKOVfjhl4"
      },
      "outputs": [],
      "source": [
        "import numpy as np\n",
        "\n",
        "samples_np = (np.random.pareto(alpha, sample_number) + 1) * xm"
      ]
    },
    {
      "cell_type": "markdown",
      "metadata": {
        "id": "MI5xLJEfjhl5"
      },
      "source": [
        "# 4.(2) - Likelihood And Log-Likelihood Calculation \n",
        "Now we are interested in calculating the likelihoods, and log likelihoods. First notice that for a single sampling the likelihood is just the density function and so for the pareto distribution that would look like this - "
      ]
    },
    {
      "cell_type": "code",
      "execution_count": 5,
      "metadata": {
        "id": "g6_DAeOmjhl7"
      },
      "outputs": [],
      "source": [
        "def single_sample_likelhood(sample_value, xm, alpha):\n",
        "    \n",
        "    if sample_value < xm:\n",
        "        return 0\n",
        "    \n",
        "    return (alpha * (5 ** alpha))/(sample_value ** (alpha + 1))"
      ]
    },
    {
      "cell_type": "markdown",
      "metadata": {
        "id": "f1AhLT9Tjhl8"
      },
      "source": [
        "Now for the log-likelihood notice first that under the assumpton of independence of the sampling we have that the likelihood is \n",
        "\n",
        "$$L\\left(\\alpha; \\overrightarrow{x}\\right)=\\prod_{i=1}^n f_X(x_i)$$\n",
        "\n",
        "And so the log-likelihood is\n",
        "\n",
        "$$l\\left(\\alpha; \\overrightarrow{x}\\right)=\\log\\left(\\prod_{i=1}^n f_X(x_i)\\right) = \\sum_{i=1}^n \\log(f_X(x_i))$$\n",
        "\n",
        "(The reason we apply log individually and sum instead of multiply and then apply log is because otherwise the product value can get too large to apply the likelihood to, which can lead to errors later on.)\n",
        "\n",
        "And so the code for total log-likelihood would be"
      ]
    },
    {
      "cell_type": "code",
      "execution_count": 6,
      "metadata": {
        "id": "xDa9XjU5jhl9"
      },
      "outputs": [],
      "source": [
        "def general_log_likelihood(sample_values, xm, alpha):\n",
        "    \n",
        "    likelihoods = [np.log(single_sample_likelhood(smp, xm, alpha)) for smp in sample_values]\n",
        "    \n",
        "    return np.sum(likelihoods)"
      ]
    },
    {
      "cell_type": "markdown",
      "metadata": {
        "id": "PIaaMMBXjhl-"
      },
      "source": [
        "And so the following calculates the general log-likelihood of our previous sampling - "
      ]
    },
    {
      "cell_type": "code",
      "execution_count": 7,
      "metadata": {
        "colab": {
          "base_uri": "https://localhost:8080/"
        },
        "id": "lE7raBBbjhl-",
        "outputId": "d17b9513-12fc-40dd-9913-891d97b7f961"
      },
      "outputs": [
        {
          "name": "stdout",
          "output_type": "stream",
          "text": [
            "-781.5728376924166\n"
          ]
        }
      ],
      "source": [
        "print(general_log_likelihood(samples_np, xm=5, alpha=7))"
      ]
    },
    {
      "cell_type": "markdown",
      "metadata": {
        "id": "wKhpoTOVjhl_"
      },
      "source": [
        "# 4.(3): MLE Calculation Using 2 Methods, Comparison Of These Methods And Corresponding Visualization.\n",
        "\n",
        "\n",
        "## Gradient Descent Method\n",
        "Finding  the  maximal  log-likelihood  is  equivalent  to  finding  the  minimal  negative  log-likelihood. To solve this we will use Gradient Descent ([Gradient Descent Wikipedia Article](https://en.wikipedia.org/wiki/Gradient_descent)). "
      ]
    },
    {
      "cell_type": "markdown",
      "metadata": {
        "id": "lXM6XjQljhmB"
      },
      "source": [
        "To employ this method we will obviously need to calculate gradients, in this case just derivatives. In this example this means we have to find the numerical derivative at any possible point (we assume continuity and differentiablity, which is very evident from the function we are trying to minimize).  This can be found in the following function -"
      ]
    },
    {
      "cell_type": "code",
      "execution_count": 9,
      "metadata": {
        "id": "u37iQA2xjhmB"
      },
      "outputs": [],
      "source": [
        "def numeric_derivative(sample_vals, xm, val, theta):\n",
        "\n",
        "    left_val = - general_log_likelihood(sample_vals, xm, val - theta)\n",
        "    right_val = - general_log_likelihood(sample_vals, xm, val + theta)\n",
        "    \n",
        "    return (right_val - left_val)/(2*theta)"
      ]
    },
    {
      "cell_type": "markdown",
      "metadata": {
        "id": "j9mnOXkLjhmC"
      },
      "source": [
        "This is based on the following approximation for the derivative - \n",
        "$$\\text{If f is differentiable then }\\forall\\theta>0: f'(x)\\approx \\frac{f(x+\\theta)-f(x-\\theta)}{2\\theta}$$\n",
        "\n",
        "All together the gradient descent method can be implemented in the following way - "
      ]
    },
    {
      "cell_type": "code",
      "execution_count": 10,
      "metadata": {
        "id": "6wJ5ncHWjhmC"
      },
      "outputs": [],
      "source": [
        "def gradient_descent(sample_vals, xm, start_point, theta, epsilon, learning_rate):\n",
        "\n",
        "    # Calculates for the first time where the next point is.\n",
        "    derivative = numeric_derivative(sample_vals, xm, start_point, theta)\n",
        "    next_point = start_point - derivative * learning_rate\n",
        "\n",
        "    # The condition is that we should continue unless we move less then a given threshold, in that case we should be near the minimum.\n",
        "    while np.abs(next_point - start_point) > epsilon:\n",
        "\n",
        "        # Just operates the next step\n",
        "        derivative = numeric_derivative(sample_vals, xm, next_point, theta)\n",
        "        start_point = next_point\n",
        "        next_point = next_point - derivative * learning_rate\n",
        "\n",
        "    return start_point"
      ]
    },
    {
      "cell_type": "markdown",
      "metadata": {
        "id": "NM9lV2_wjhmD"
      },
      "source": [
        "Where the start point is the first point/guess we choose, theta is the accuracy we use for the numeric derivatives we will use in the process.  We then use epsilon to denote our threshold for when we stop the process - if we move by less than epsilon then we should be close enough to the minimum.  The variable learning_rate denotes the learning rate $\\gamma$ we will use in the process of the gradient descent.  What the function returns is where we think the maximal log likelihood, and to calculate the log-likelihood of this $\\alpha$, we can just apply the general log-likelihood function on this value. Now we can test this method, to try to confirm that this method works well. We can both check our method converges, and that when it converges that it converges to the right place. First to see where it is supposed to converge to we will calculate this analytically. "
      ]
    },
    {
      "cell_type": "markdown",
      "metadata": {
        "id": "_TRGWch7jhmD"
      },
      "source": [
        "## Analytical Method\n",
        "\n",
        "Notice that the negative log-likelihood function is of the following form \n",
        "\n",
        "$$l\\left(\\alpha;\\overrightarrow{x}\\right) = - n\\left(\\log\\alpha+n\\log x_m\\right) + (\\alpha+1)\\sum_{i=1}^n\\log x_i$$\n",
        "\n",
        "Where $l$ is the negative log likelihood. Now we want to find the alpha that minimizes this function. And so we will find when the derivative gives 0 - \n",
        "\n",
        "\\begin{align*}\n",
        "    \\frac{d}{d\\alpha} l =  - n\\cdot\\frac{1}{\\alpha} - n\\log x_m + \\sum_{i=1}^n \\log x_i &= 0 \\\\ \\frac{n}{\\alpha} &= n\\log x_m - \\sum_{i=1}^n \\log x_i \\\\ \\alpha &= \\frac{n}{n\\log x_m - \\sum_{i=1}^n \\log x_i}\n",
        "\\end{align*}\n",
        "\n",
        "Now notice that\n",
        "$$\\frac{d^2}{d\\alpha^2} l = -n\\cdot \\frac{-1}{\\alpha^2} = \\frac{n}{\\alpha^2}>0$$\n",
        "\n",
        "And so this is in fact a minimum point. This gives us the function of what the real minimizing $\\alpha$ should be according to the sample (MLE) in the following function"
      ]
    },
    {
      "cell_type": "code",
      "execution_count": 11,
      "metadata": {
        "id": "_UMnkdDrjhmE"
      },
      "outputs": [],
      "source": [
        "def real_mle_alpha(sample_vals, xm, num_of_samples):\n",
        "\n",
        "    sum_of_logs = np.sum(np.log(sample_vals)) \n",
        "\n",
        "    return num_of_samples/(sum_of_logs - num_of_samples*np.log(xm))"
      ]
    },
    {
      "cell_type": "markdown",
      "metadata": {
        "id": "5nqcschyjhmE"
      },
      "source": [
        "## Comparison And Visualization Of The Methods, And Plot Of Log-Likelihood\n",
        "\n",
        "Now we want to see how close our prediction with the gradient descent method is to the real value, we will use our previous example. For this we will run the following code. This code uses both the gradient descent method and the analytical method to find the MLE. It then plots the log-likelihood, and shows where the gradient descent alpha is so we can see how close it is to where it should be.  "
      ]
    },
    {
      "cell_type": "code",
      "execution_count": 12,
      "metadata": {
        "id": "by5dk2JkjhmF",
        "outputId": "bb6f40d0-998a-4caf-900e-e8f6e3835050"
      },
      "outputs": [
        {
          "name": "stdout",
          "output_type": "stream",
          "text": [
            "The value we get from the gradient descent is: 7.154839860378388\n",
            "The value of the real MLE is: 7.15534658109489\n"
          ]
        },
        {
          "data": {
            "image/png": "[encoded data removed]",
            "text/plain": [
              "<Figure size 432x288 with 1 Axes>"
            ]
          },
          "metadata": {
            "needs_background": "light"
          },
          "output_type": "display_data"
        },
        {
          "data": {
            "text/plain": [
              "0"
            ]
          },
          "execution_count": 12,
          "metadata": {},
          "output_type": "execute_result"
        }
      ],
      "source": [
        "def create_vals_for_plot_of_log_likelihood(sample, xm, min_alpha, end_alpha, step_num, real_alpha_val):\n",
        "    \n",
        "    # Generates a bunch of values to use for the plot, where we also locate a value that is close enough to the \n",
        "    # gradient descent method alpha. \n",
        "    x_vals = np.linspace(min_alpha, end_alpha, step_num)\n",
        "    real_alpha_val_ind = np.argmax(x_vals>real_alpha_val)\n",
        "    y_vals = [general_log_likelihood(sample, xm, alpha) for alpha in x_vals]\n",
        "\n",
        "    # Generate the plot almost right before the gradient descent MLE alpha.\n",
        "    plt.plot(x_vals[:real_alpha_val_ind-7], y_vals[:real_alpha_val_ind-7],color='green')\n",
        "\n",
        "    # Highlight a very small interval near the gradient descent MLE alpha.\n",
        "    plt.plot(x_vals[real_alpha_val_ind-7:real_alpha_val_ind+7], y_vals[real_alpha_val_ind-7:real_alpha_val_ind+7], color='red')\n",
        "\n",
        "    # Generate the rest of the plot.\n",
        "    plt.plot(x_vals[real_alpha_val_ind+7:], y_vals[real_alpha_val_ind+7:], color='green')\n",
        "\n",
        "    plt.title(\"Plot Of Negative-Log-Likelihood, And The MLE (Red Spot)\")\n",
        "    plt.xlabel(\"Alpha Value\")\n",
        "    plt.ylabel(\"Negative-Log-Likelihood\")\n",
        "    plt.show()\n",
        "\n",
        "    return 0\n",
        "\n",
        "\n",
        "alpha_val = gradient_descent(samples_np, xm, 5, 10**(-5), 10**(-5), 10**(-3))\n",
        "print(f\"The value we get from the gradient descent is: {alpha_val}\")\n",
        "print(f\"The value of the real MLE is: {real_mle_alpha(samples_np, xm, sample_number)}\")\n",
        "create_vals_for_plot_of_log_likelihood(samples_np, xm, 2, 12, 10**3, alpha_val)"
      ]
    },
    {
      "cell_type": "markdown",
      "metadata": {
        "id": "Ws4uV-lQjhmG"
      },
      "source": [
        "And as can be seen the red spot is very much at the top of the curve - and so the GD method works very well. Now we can consider the accuracy of the gradient descent method that we get from ourcode. And as we can see the analyitcal and gradient descent values are very very close implying the accuracy of the method. "
      ]
    },
    {
      "cell_type": "markdown",
      "metadata": {
        "id": "-CBj4zWdjhmG"
      },
      "source": [
        "# 4.(4): Confidence Intervals Calculation (2 different methods)\n",
        "We will present 2 methods - one based on using an MLE based approach using the previous part, the other based on the pivot method. First we will present the MLE one - \n",
        "\n",
        "## MLE Method:\n",
        "\n",
        "\n",
        "We know that the MLE method gives us a good estimate for $\\alpha$, and so if we sample enough MLE's we can get a confidence interval by taking an interval that contains a specific ratio of the MLE's to get what we want. This can be done with the following code"
      ]
    },
    {
      "cell_type": "code",
      "execution_count": 13,
      "metadata": {
        "id": "6Y9owXewjhmG"
      },
      "outputs": [],
      "source": [
        "def numerical_interval(smp_size, alpha, xm, num_of_mles, sig):\n",
        "\n",
        "    mles = []\n",
        "\n",
        "    # Generating samples and appending their MLE's to the mles list.\n",
        "    for i in range(num_of_mles):\n",
        "        sample = (np.random.pareto(alpha, smp_size) + 1) * xm\n",
        "        mles.append(real_mle_alpha(sample, xm, smp_size))\n",
        "\n",
        "    # Sorts the mles in order to find a confidene interval.\n",
        "    sorted_mle = sorted(mles)\n",
        "    lower = sorted_mle[int(((1 - sig)/2)* num_of_mles)]\n",
        "    upper = sorted_mle[int((1 - (1 - sig)/2)* num_of_mles)]\n",
        "\n",
        "    # Returns the 2 values at the ends of the confidence intervals.\n",
        "    return lower, upper\n",
        "\n",
        "\n",
        "def create_one_hundred_intervals_numerically(smp_size, alpha, xm, num_of_mles, sig):\n",
        "    \n",
        "    # Creates the list of the left sides of the intervals and the right side of the intervals.\n",
        "    list_of_intervals = []\n",
        "\n",
        "    # Does this one hundred times and appends to the lists of the values.\n",
        "    for i in tqdm(range(100)):\n",
        "\n",
        "        # Calculates the intervals and adds the values.\n",
        "        interval = numerical_interval(smp_size, alpha, xm, num_of_mles, sig)\n",
        "        list_of_intervals.append((interval[0], interval[1]))\n",
        "\n",
        "    return list_of_intervals"
      ]
    },
    {
      "cell_type": "markdown",
      "metadata": {
        "id": "MJe72jxyjhmH"
      },
      "source": [
        "Of course we can just change the significance (changing the percent value). Now we would like to to test out the method. It would make sense to check out the length of the interval (we will look at the mean and the standard deviation of the length to get an understanding of this). Another interesting thing we can check is whether or not these intervals are somewhat symmetric around 7. If not, this might imply that there are better choices for confidence intervals."
      ]
    },
    {
      "cell_type": "code",
      "execution_count": 14,
      "metadata": {
        "id": "oobfkrMJjhmH",
        "outputId": "60e5733b-a194-4e04-baa7-34fef637bf26"
      },
      "outputs": [
        {
          "name": "stderr",
          "output_type": "stream",
          "text": [
            "100%|██████████| 100/100 [00:24<00:00,  4.08it/s]"
          ]
        },
        {
          "name": "stdout",
          "output_type": "stream",
          "text": [
            "The average length of MLE based intervals is: 0.86894961431692\n",
            "The standard deviation of the length of MLE based intervals is: 0.008202078841809707\n",
            "The level of asymmetry of the MLE based intervals is: 0.02072871489379484\n"
          ]
        },
        {
          "name": "stderr",
          "output_type": "stream",
          "text": [
            "\n"
          ]
        }
      ],
      "source": [
        "def average_length_of_intervals(list_of_intervals):\n",
        "\n",
        "    lengths = [list_of_intervals[i][1]-list_of_intervals[i][0] for i in range(len(list_of_intervals))]\n",
        "\n",
        "    return np.mean(lengths)\n",
        "\n",
        "\n",
        "def standard_deviation_of_length_of_intervals(list_of_intervals):\n",
        "\n",
        "    lengths = [list_of_intervals[i][1]-list_of_intervals[i][0] for i in range(len(list_of_intervals))]\n",
        "\n",
        "    return np.std(lengths)\n",
        "\n",
        "\n",
        "def how_asymmetric(list_of_intervals, alpha):\n",
        "\n",
        "    how_centered = [((list_of_intervals[i][0]+list_of_intervals[i][1])/2 - alpha) for i in range(len(list_of_intervals))]\n",
        "\n",
        "    return np.mean(np.abs(how_centered))\n",
        "\n",
        "\n",
        "\n",
        "intervals = create_one_hundred_intervals_numerically(sample_number, alpha, xm, 10000, 0.95)\n",
        "print(f\"The average length of MLE based intervals is: {average_length_of_intervals(intervals)}\")\n",
        "print(f\"The standard deviation of the length of MLE based intervals is: {standard_deviation_of_length_of_intervals(intervals)}\")\n",
        "print(f\"The level of asymmetry of the MLE based intervals is: {how_asymmetric(intervals, alpha)}\")"
      ]
    },
    {
      "cell_type": "markdown",
      "metadata": {
        "id": "PTqM4VZHjhmI"
      },
      "source": [
        "We can see that the length of intervals is usually around 0.8, with low standard deviation and decent symmetry around alpha. This means this method works pretty decently well, the only issue is that it requires a very significant amount of sampling and calculation around each group of sampling. This calculation can take a decently long time (at least if you have my computer). We will use another method that uses more math in the background and will take significantly less time and samplings in order to create the intervals. We will visualize the one hundred intervals using this next method, but we will also compare the previous functions to see which one gives \"better\" confidence intervals. "
      ]
    },
    {
      "cell_type": "markdown",
      "metadata": {
        "id": "_whWRaPyjhmJ"
      },
      "source": [
        "## Pivot Method\n",
        "\n",
        "We will calculate the confidence interval without the need to calculate MLE's, this saves a lot of time and the assumption of having to generate many many samples. The main driver behind the method will be the following 2 identities -\n",
        "\n",
        "$$\\text{(1). If }X\\sim \\text{Pareto}(x_m,\\alpha)\\text{ then }\\log\\left(\\frac{X}{x_m}\\right)\\sim\\text{Exp}(\\alpha)$$\n",
        "\n",
        "$$\\text{(2). If for i.i.d. }\\{X_i\\}_{i=1}^n \\text{ we have }X_i\\sim\\text{Exp}(\\alpha)\\text{ then }\\sum_{i=1}^n X_i\\sim \\frac{1}{2\\alpha}\\chi_{2n}^2$$\n",
        "\n",
        "For (1). notice that \n",
        "\n",
        "$$\\mathbb{P}\\left(\\log\\left(\\frac{X}{x_m}\\right)<y \\right) = \\mathbb{P}\\left( X < x_m \\cdot e^{y}\\right) = 1-\\left(\\frac{x_m}{x_m\\cdot e^y}\\right)^{\\alpha} = 1-e^{-\\alpha y}$$\n",
        "\n",
        "Additionally we have seen (2) in the T.A. class - \n",
        "\n",
        "$$ X_i\\sim\\text{Exp}(\\alpha)=\\Gamma(1,\\alpha) $$\n",
        "\n",
        "And so \n",
        "\n",
        "$$ \\sum_{i=1}^n X_i=\\Gamma(n,\\alpha) \\sim \\frac{1}{2\\alpha}\\chi_{2n}^2 $$\n",
        "\n",
        "Now we can use these together to get the following identity - \n",
        "\n",
        "If $\\{X_i\\}_{i=1}^n$ are i.i.d. $\\text{Pareto}(x_m,\\alpha)$ then\n",
        "\n",
        "$$ \\sum_{i=1}^n \\log\\left(\\frac{X_i}{x_m}\\right)\\sim\\frac{1}{2\\alpha}\\chi_{2n}^2 $$\n",
        "Meaning\n",
        "\n",
        "$$ 2\\alpha\\cdot \\sum_{i=1}^n \\log\\left(\\frac{X_i}{x_m}\\right)\\sim\\chi_{2n}^2 $$\n",
        "\n",
        "### Naive Pivot Method\n",
        "\n",
        "And so we can use this as a pivot for our distribution. Now if we want significance $\\beta$ and we know $\\theta>0$ satisfies $\\mathbb{P}(\\chi_{2n}^2<\\theta) = \\beta$ we have that\n",
        "\\begin{align*}\n",
        "    \\mathbb{P}(0<\\chi_{2n}^2<\\theta) &= \\beta \\\\\n",
        "    \\mathbb{P}\\left(0<2\\alpha\\cdot \\sum_{i=1}^n \\log\\left(\\frac{X_i}{x_m}\\right)<\\theta\\right) &= \\beta \\\\\n",
        "    \\mathbb{P}\\left(0<\\alpha< \\frac{\\theta}{2\\sum_{i=1}^n \\log\\left(\\frac{X_i}{x_m}\\right)}\\right) &= \\beta\n",
        "\\end{align*}\n",
        "\n",
        "And this gives us a confidence interval for $\\alpha$ with significance $\\beta$ - $(0 , \\frac{\\theta}{2\\sum_{i=1}^n \\log\\left(\\frac{X_i}{x_m}\\right)})$\n",
        "\n",
        "Notice that the way we choose $\\theta$ for given $\\beta$ is independent of the sampling and is deterministic. Meaning if F is the CDF for the Chi-squared distribution, then \n",
        "\n",
        "$$ \\theta = F^{-1}(\\beta) $$\n",
        "\n",
        "### Smart Pivot Method\n",
        "\n",
        "Of course though this would be a naive choice of a confidence interval, this is because if the interval starts at 0 this has to have at least length of $\\alpha$ which can be very large of course. And so what we should do is try to minimize the possible length this method gives. This means we want to minimize the following function - \n",
        "\n",
        "$$ F^{-1}(x+sig)-F^{-1}(x) $$ \n",
        "\n",
        "where both x and x+sig are in (0, 1), and where sig is the significance we want. This minimizes our length (at least for our suggested method). And so we can use the following code to generate the intervals\n"
      ]
    },
    {
      "cell_type": "code",
      "execution_count": 15,
      "metadata": {
        "id": "FVAUhUGMjhmJ",
        "outputId": "47d69fe1-9b96-423b-ef0c-464d020bf73e"
      },
      "outputs": [
        {
          "name": "stdout",
          "output_type": "stream",
          "text": [
            "The number of intervals that do not contain the real value of alpha is: 4\n"
          ]
        },
        {
          "data": {
            "image/png": "[encoded data removed]",
            "text/plain": [
              "<Figure size 432x288 with 1 Axes>"
            ]
          },
          "metadata": {
            "needs_background": "light"
          },
          "output_type": "display_data"
        }
      ],
      "source": [
        "from scipy.stats import chi2\n",
        "\n",
        "\n",
        "# Returns the inverse of the Chi Squared distribution's CDF.\n",
        "def inverse_chi_squared(free_deg, val):\n",
        "    return chi2.ppf(val, free_deg)\n",
        "\n",
        "\n",
        "# Calculates the sum of the logs that appear in the pivot equation above.\n",
        "def pivot(smp_vals, xm):\n",
        "    return 2*np.sum(np.log(smp_vals/xm) )\n",
        "\n",
        "\n",
        "# Returns A value that is at the right of the confidence interval with a certain significance \n",
        "# when the left value of the significance interval is 0.\n",
        "def conf_intrvl(smp_vals, xm, sig):\n",
        "    return (inverse_chi_squared(len(smp_vals)*2, sig))/(pivot(smp_vals, xm))\n",
        "\n",
        "\n",
        "# Minimizes the above function ($F^{-1}(sig+x) - F^{-1}(x)$) for a certain initial significance (calculates length of interval for many values, and takes the one that gives the minimizer).\n",
        "def best_chi(free_deg, sig, num_to_check):\n",
        "\n",
        "    x_vals = np.linspace(0, 1 - sig, num_to_check)\n",
        "    interval_lengths = [inverse_chi_squared(free_deg, val + sig) - inverse_chi_squared(free_deg,val) for val in x_vals]\n",
        "\n",
        "    return x_vals[np.argmin(interval_lengths)]\n",
        "\n",
        "\n",
        "# Uses the best_chi function to calculate the minimal length confidence interval (using our pivot) for num_of_iter number of samples.\n",
        "def do_optim_intrvls(xm, alpha, sig, smp_size, num_of_iter):\n",
        "\n",
        "\tval = best_chi(smp_size, sig, 10**4)\n",
        "\tlist_of_intervals = []\n",
        "\n",
        "\tfor i in range(num_of_iter):\n",
        "\t\tsmp_vals = (np.random.pareto(alpha, smp_size)+ 1) * xm\n",
        "\t\tlist_of_intervals.append((conf_intrvl(smp_vals, xm, val), conf_intrvl(smp_vals, xm, val + sig)))\n",
        "\n",
        "\treturn list_of_intervals\n",
        "\n",
        "\n",
        "# Plots an interval between 2 x-values, with the y-value being y_val\n",
        "def plot_interval(lower, upper, y_val):\n",
        "    plt.plot(np.linspace(lower, upper, 10**3), [y_val for i in range(10**3)])\n",
        "    return \n",
        "\n",
        "\n",
        "# Creates the intervals for the visualiztion, num_of_errors will denote how many intervals do not containt alpha. \n",
        "num_of_intrvls = 100\n",
        "intervals = do_optim_intrvls(xm, alpha, 0.95, 10**3, num_of_intrvls)\n",
        "num_of_errors = 0\n",
        "\n",
        "# Plots each confidence interval on evenly spaced y-values, and if alpha is not in the interval it plots a red mark next to the interval\n",
        "for idx, intrvl in enumerate(intervals):\n",
        "\n",
        "    plot_interval(intrvl[0], intrvl[1], idx)\n",
        "    \n",
        "    if (intrvl[0] > alpha) or (alpha > intrvl[1]):\n",
        "        num_of_errors += 1\n",
        "        plt.plot(np.linspace(9, 9.1, 10**2), [idx for j in range(10**2)], color='red')\n",
        "\n",
        "\n",
        "# Prints the number of errors.\n",
        "print(f\"The number of intervals that do not contain the real value of alpha is: {num_of_errors}\")\n",
        "\n",
        "# Adds a vertical line at alpha that helps us get a frame of reference for each interval. \n",
        "# We the execute the plot.\n",
        "plt.vlines(alpha, -5, 105, colors=\"black\")\n",
        "plt.xlabel(\"Alpha Value\")\n",
        "plt.title(\"A graph of the 100 confidence intervals\")\n",
        "plt.show()"
      ]
    },
    {
      "cell_type": "markdown",
      "metadata": {
        "id": "SxqpgQa4jhmL"
      },
      "source": [
        "To see a comparison of how these intervals look like for $N=10^3$ or $N=10^5$ and to see the metrics associated that we have discussed above we use the following code: "
      ]
    },
    {
      "cell_type": "code",
      "execution_count": 16,
      "metadata": {
        "id": "mKgzLppEjhmL",
        "outputId": "8859c537-0d2c-44c3-c2ed-d766eb9ed659"
      },
      "outputs": [
        {
          "name": "stdout",
          "output_type": "stream",
          "text": [
            "The average length of pivot based intervals with 10^3 samples is: 0.8637815545365126\n",
            "The standard deviation of the length of pivot based intervals with 10^3 samples is: 0.026497471294383977\n",
            "The level of symmetry of the pivot based intervals with 10^3 samples is: 0.18561395445392215\n",
            "\n",
            "The average length of pivot based intervals with 10^5 samples is: 0.08676681817090641\n",
            "The standard deviation of the length of pivot based intervals with 10^5 samples is: 0.00025041153975914073\n",
            "The level of symmetry of the pivot based intervals with 10^5 samples is: 0.015727800251698013\n"
          ]
        },
        {
          "data": {
            "image/png": "[encoded data removed]",
            "text/plain": [
              "<Figure size 432x288 with 1 Axes>"
            ]
          },
          "metadata": {
            "needs_background": "light"
          },
          "output_type": "display_data"
        }
      ],
      "source": [
        "# This calculates 100 confidence intervals using 1000 samples, The y_values are used just to separate the values in the plot.\n",
        "intervals =  do_optim_intrvls(xm, alpha, 0.95, 10**3, num_of_intrvls)\n",
        "print(f\"The average length of pivot based intervals with 10^3 samples is: {average_length_of_intervals(intervals)}\")\n",
        "print(f\"The standard deviation of the length of pivot based intervals with 10^3 samples is: {standard_deviation_of_length_of_intervals(intervals)}\")\n",
        "print(f\"The level of symmetry of the pivot based intervals with 10^3 samples is: {how_asymmetric(intervals, alpha)}\\n\")\n",
        "\n",
        "\n",
        "left_side, right_side = [intervals[i][0] for i in range(num_of_intrvls)], [intervals[i][1] for i in range(num_of_intrvls)] \n",
        "y_vals_1 = [0 for i in range(num_of_intrvls)]\n",
        "y_vals_2 = [0.1 for i in range(num_of_intrvls)]\n",
        "\n",
        "# This calculates 100 confidence intervals using 1000 samples, The y_values are used just to separate the values in the plot.\n",
        "intervals_for_hundred_thousand = do_optim_intrvls(xm, alpha, 0.95, 10**5, num_of_intrvls)\n",
        "print(f\"The average length of pivot based intervals with 10^5 samples is: {average_length_of_intervals(intervals_for_hundred_thousand)}\")\n",
        "print(f\"The standard deviation of the length of pivot based intervals with 10^5 samples is: {standard_deviation_of_length_of_intervals(intervals_for_hundred_thousand)}\")\n",
        "print(f\"The level of symmetry of the pivot based intervals with 10^5 samples is: {how_asymmetric(intervals_for_hundred_thousand, alpha)}\")\n",
        "\n",
        "\n",
        "left_side_2, right_side_2 = [intervals_for_hundred_thousand[i][0] for i in range(num_of_intrvls)], [intervals_for_hundred_thousand[i][1] for i in range(num_of_intrvls)]\n",
        "y_vals_3 = [0.9 for i in range(num_of_intrvls)]\n",
        "y_vals_4 = [1 for i in range(num_of_intrvls)]\n",
        "\n",
        "# Plotting The above values.\n",
        "plt.title(\"100 Confidence Intervals for 1000 and 100000\")\n",
        "plt.xlabel(\"Alpha Values\")\n",
        "plt.plot(left_side, y_vals_1, color=\"red\")\n",
        "plt.plot(right_side, y_vals_2, color=\"blue\")\n",
        "plt.plot(left_side_2, y_vals_3, color=\"red\")\n",
        "plt.plot(right_side_2, y_vals_4, color=\"blue\")\n",
        "plt.show()"
      ]
    },
    {
      "cell_type": "markdown",
      "metadata": {
        "id": "tPGcpnFFjhmM"
      },
      "source": [
        "Where the red dots are the left side of the confidence interval, and the blue ones are the right side (these are very dense as can be seen). By the metrics we know the variance is quite low And so these intervals can be virtually created by taking a red dot and adding the correct length (which like we said doesn't change much). (This of course is done post-hoc.)"
      ]
    },
    {
      "cell_type": "markdown",
      "metadata": {
        "id": "3fTv_RmojhmM"
      },
      "source": [
        "# 4.(5): Comparison Of Means Of Samplings For \"Sensitive\" $\\alpha$ Values\n",
        "\n",
        "As can be seen in the \"law of large numbers\", and as we saw during the course - the sample average is usually a good estimate for the expected value. Meaning that \n",
        "\n",
        "$$\\text{For i.i.d. random variables }\\{X_i\\}_{i=1}^n \\text{ we can take }\\bar{X}:=\\frac{1}{n}\\sum_{i=1}^n X_i\\text{ as an estimator for }\\mathbb{E}[X_i]$$\n",
        "\n",
        "Why is this true? first it is an unbiased estimator - \n",
        "\n",
        "$$\\mathbb{E}\\left[\\bar{X}\\right] = \\mathbb{E}\\left[\\frac{1}{n}\\sum_{i=1}^n X_i\\right] =\\frac{1}{n} \\sum_{i=1}^n \\mathbb{E}[X_i] = \\frac{1}{n}\\cdot n\\cdot\\mathbb{E}[X_i] = \\mathbb{E}[X_i]$$\n",
        "\n",
        "Additionally if $\\text{Var}(X_i) = \\sigma^2$, then the variance of the estimator is \n",
        "$$\\text{var}\\left(\\bar{X}\\right) = \\text{Var}\\left(\\frac{1}{n}\\sum_{i=1}^n X_i\\right) =\\frac{1}{n^2} \\sum_{i=1}^n \\text{Var}(X_i) = \\frac{1}{n^2}\\cdot n\\cdot\\sigma^2 = \\frac{\\sigma^2}{n}$$\n",
        "\n",
        "Meaning that when $n\\rightarrow\\infty$ this variance should go to zero and so this would be a good estimator for the expected value. And so we will try to see how this works for our case. We will sample the sizes that appear in the question and average out for each of these samples. Then we will plot these averages out to get an indication for the estimate. We will also be able to see how the averages turn out for each values as a function of the size of sample. And finally we will also be able to see the comparison between $\\alpha=0.9$ and $\\alpha=1.1$. \n",
        "In order to do that we will employ the following function -"
      ]
    },
    {
      "cell_type": "code",
      "execution_count": 17,
      "metadata": {
        "id": "AccLbXpKjhmM",
        "outputId": "3a8d34d5-ad1e-49b4-9bc3-8fdfe86ae267"
      },
      "outputs": [
        {
          "data": {
            "image/png": "[encoded data removed]",
            "text/plain": [
              "<Figure size 432x288 with 1 Axes>"
            ]
          },
          "metadata": {
            "needs_background": "light"
          },
          "output_type": "display_data"
        }
      ],
      "source": [
        "from matplotlib.patches import Rectangle\n",
        "\n",
        " \n",
        "# Samples the pareto distribution 100 times of a certain shape, and return their averages.\n",
        "def hundred_times_average(xm, alpha, smp_size):\n",
        "\n",
        "    averages = []\n",
        "\n",
        "    for i in range(100):\n",
        "        s = (np.random.pareto(alpha, smp_size) + 1) * xm\n",
        "        averages.append(np.mean(s))\n",
        "\n",
        "    return averages\n",
        "\n",
        "\n",
        "alpha = 1.1\n",
        "smp_sizes = [10**(2*i) for i in range(5)]\n",
        "\n",
        "# List of the means we get from the hundred_times_average for the different sample sizes we are interested in.\n",
        "list_of_lists = [hundred_times_average(xm, alpha,i) for i in smp_sizes]\n",
        "\n",
        "# Averages out (up to 3 digits after the dot) the lists in lists of lists\n",
        "average_of_averages = [int(np.mean(lister)*10**3)/(10.0**3) for lister in list_of_lists]\n",
        "\n",
        "plt.xlabel('Sample Averages')\n",
        "plt.ylabel('Density')\n",
        "plt.title('Expectation Histogram')\n",
        "\n",
        "# Creates the \"map\" in the plot\n",
        "handles = [Rectangle((0, 0), 1, 1, color=c, ec=\"k\") for c in ['red', 'blue',\n",
        "'yellow', 'lime', 'turquoise']] \n",
        "labels = ['N=1                 Avg Of Avg=' + str(average_of_averages[0]), 'N=100             Avg Of Avg=' + str(average_of_averages[1]),'N=10000         Avg Of Avg=' + str(average_of_averages[2]),\n",
        "            'N=1000000    Avg Of Avg=' + str(average_of_averages[3]), 'N=100000000 Avg Of Avg=' + str(average_of_averages[4])]            \n",
        "plt.legend(handles, labels)\n",
        "\n",
        "\n",
        "# Plots the values from list_of_lists \n",
        "plt.hist(list_of_lists[0], color='red', bins=100, edgecolor='black',\n",
        "range=[0, 1000])\n",
        "\n",
        "plt.hist(list_of_lists[1], color='blue', bins=100, edgecolor='black', \n",
        "range=[0, 1000])\n",
        "\n",
        "plt.hist(list_of_lists[2], color='yellow', bins=100, edgecolor='black',\n",
        "range=[0, 1000]) \n",
        "\n",
        "plt.hist(list_of_lists[3], color='lime', bins=100, edgecolor='black',\n",
        "range=[0, 1000])\n",
        "\n",
        "plt.hist(list_of_lists[4], color='turquoise', bins=100, edgecolor='black',\n",
        "range=[0, 1000])\n",
        "\n",
        "plt.show()"
      ]
    },
    {
      "cell_type": "markdown",
      "metadata": {
        "id": "g_0iU0YgjhmR"
      },
      "source": [
        "(Of course we can change the value of $\\alpha$ to be as pleased, this doesn't change the code in any significant way.)"
      ]
    },
    {
      "cell_type": "markdown",
      "metadata": {
        "id": "dnz7s9I2jhmS"
      },
      "source": [
        "## Explanation Of Differeng Results For Different $\\alpha$'s\n",
        "\n",
        "First of all as can be seen - the averages of the averages are very very different between these values, even though the $\\alpha$'s are quite close together. And so an explanation is needed in order to understand this difference. Additionally we can see that the averages of the averages for $\\alpha=0.9$ can be very large and change a lot as a function of the number of samples. When looking though at this for $\\alpha=1.1$, it seems to \"not escape\" too much and the values are more bounded. And more over The samples for $\\alpha=1.1$ seems to be much less spread over then that of $\\alpha=0.9$. That being said when it comes to $\\alpha=1.1$, it still doesn't converge as fast as one would expect. Now we will try to explain these phenomena. \n",
        "\n",
        "\n",
        "This means we need to understand the variance and mean of these distributions, and how the different choices of $\\alpha$ affects this result. \n",
        "Given $X\\sim \\text{Par}(x_m,\\alpha)$ we have that\n",
        "\n",
        "$$\\mathbb{E}[ X ] = \\int_{x_m}^\\infty x\\cdot \\frac{\\alpha x_m^{\\alpha}}{x^{\\alpha+1}} dx \\approx O\\left(\\int_{x_m}^\\infty t^{-\\alpha}dt\\right) \\begin{cases}<\\infty, & \\alpha > 1\\\\ =\\infty, & \\text{Otherwise}\\end{cases}$$\n",
        "\n",
        "Meaning there is expected value when $\\alpha>1$ and otherwise the expected value is infinite. Additionally\n",
        "\n",
        "$$\\text{Var}(X) = \\mathbb{E}\\left[ X^2\\right] - \\mathbb{E}[ X]^2$$\n",
        "\n",
        "And so if the expected value is finite then the variance is finite if and only if the second moment is finite. (It is also known that if the second moment is finite so is the first, and so we will find when the second moment is finite - and this implies that when the second moment is finite we can just assume the the first one is finite too). And so\n",
        "\n",
        "$$\\mathbb{E}\\left[ X^2\\right] = \\int_{x_m}^\\infty x^2\\cdot \\frac{\\alpha\\cdot x_m^{\\alpha}}{x^{\\alpha+1}} dx = O\\left(\\int_{x_m}^\\infty t^{-\\alpha+1}dt\\right) \\begin{cases}<\\infty ,& \\alpha>2 \\\\ =\\infty ,& \\text{Otherwise}\\end{cases} $$\n",
        "\n",
        "\n",
        "And so the variance is finite if and only if $\\alpha>2$. And so notice that for $\\alpha=0.9$ both values are infinite, and for $\\alpha=1.1$ only the mean is finite. This means that for $\\alpha=0.9$ we can't expect any type of convergence for the sample average to the mean since it isn't finite. This explains why for $\\alpha=0.9$ we get such anamolous results for that value, and why it spreads out a lot as N goes up. This also explains the situation for $\\alpha=1.1$. There is very much obvious convergence of the sample average to the mean of the distribution. Additionally this convergence is relatively slow because the variance is infinite, and this is known to imply slower convergence in the law of large numbers."
      ]
    },
    {
      "cell_type": "markdown",
      "metadata": {
        "id": "5LZIvz9yjhmS"
      },
      "source": []
    }
  ],
  "metadata": {
    "colab": {
      "name": "Statistical Theory Project Code Section.ipynb",
      "provenance": []
    },
    "interpreter": {
      "hash": "916dbcbb3f70747c44a77c7bcd40155683ae19c65e1c03b4aa3499c5328201f1"
    },
    "kernelspec": {
      "display_name": "Python 3.10.4 64-bit",
      "language": "python",
      "name": "python3"
    },
    "language_info": {
      "codemirror_mode": {
        "name": "ipython",
        "version": 3
      },
      "file_extension": ".py",
      "mimetype": "text/x-python",
      "name": "python",
      "nbconvert_exporter": "python",
      "pygments_lexer": "ipython3",
      "version": "3.10.4"
    },
    "orig_nbformat": 4
  },
  "nbformat": 4,
  "nbformat_minor": 0
}
